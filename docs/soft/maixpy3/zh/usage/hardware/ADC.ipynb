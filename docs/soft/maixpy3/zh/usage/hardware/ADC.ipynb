{
 "cells": [
  {
   "cell_type": "markdown",
   "metadata": {},
   "source": [
    "---\n",
    "\n",
    "title: ADC 的使用\n",
    "keywords: Maixpy3, ADC\n",
    "desc: maixpy3  ADC\n",
    "\n",
    "---"
   ]
  },
  {
   "cell_type": "markdown",
   "metadata": {},
   "source": [
    "| 更新时间 | 负责人 | 内容 | 备注 |\n",
    "| --- | --- | --- | --- |\n",
    "| 2022年1月4日 | Rui | 初次编写文档 | --- |\n",
    "| 2022年1月8日 | Rui | 修改文档的编写方式 | 使用 Jupyter notebook 进行编写文档 |\n",
    "| 2022年1月18日 | Rui | 修改文档，增加效果图 | 外设文档通过测试的平台有 MaixII-Dock，使用的是 MaixPy3 0.4.0 |\n",
    "| 2022年1月19日 | dalaoshu | 修订具体描述 | 由于 ADC 相对 SOC Linux 来说是一个特殊的功能，在 MaixPy3 的设计里不通用。 |\n",
    "\n",
    "ADC 通讯协议，目前只是针对 MaixII-Dock 进行开发的，其他芯片或平台需要仔细阅读数据手册来确认是否支持。\n",
    "\n",
    "## 使用方法\n",
    "\n",
    "### 准备\n",
    "\n",
    "查看对应开发板上的管脚定义图或者是文件，如 MaixII-Dock 管脚定义图所示，将 ADC 设备接入到 GPADC0 的管脚上\n",
    "\n",
    "![111](./../asserts/M2Dock_pin.jpg)\n",
    "\n",
    "### 代码\n",
    "\n",
    "根据数据手册可知 V831 数据地址 0x05070080 处有一个 12bit （0-4095）的 adc 引脚，但该引脚默认被当做 adc-key 使用，使得一个引脚可以支持多个按键事件。\n",
    "\n",
    "定义 MaixII-Dock ADC 模块"
   ]
  },
  {
   "cell_type": "code",
   "execution_count": 1,
   "metadata": {
    "vscode": {
     "languageId": "python"
    }
   },
   "outputs": [
    {
     "name": "stdout",
     "output_type": "stream",
     "text": [
      "[dls][ rpyc-kernel ]( running at Wed Jul 13 19:03:06 2022 )\n"
     ]
    }
   ],
   "source": [
    "class v83x_ADC():\n",
    "    def __init__(self, addr=b\"0x05070080\") -> None:\n",
    "        self.addr = addr\n",
    "        self.path = \"/sys/class/sunxi_dump/dump\"\n",
    "        self.file = open(self.path, \"wb+\")\n",
    "        self.last = self.value()\n",
    "    def __del__(self):\n",
    "        try:\n",
    "            if self.file:\n",
    "                self.file.close()\n",
    "                del self.file\n",
    "        except Exception as e:\n",
    "            pass\n",
    "    def value(self):\n",
    "        self.file.write(b\"0x05070080\")\n",
    "        self.file.seek(0)\n",
    "        return int(self.file.read()[:-1], 16)\n",
    "\n",
    "v83x_ADC = v83x_ADC()"
   ]
  },
  {
   "cell_type": "markdown",
   "metadata": {},
   "source": [
    "使用 ADC 进行是设备通讯"
   ]
  },
  {
   "cell_type": "code",
   "execution_count": 1,
   "metadata": {
    "vscode": {
     "languageId": "python"
    }
   },
   "outputs": [
    {
     "data": {
      "image/jpeg": "[encoded data removed]"
     },
     "metadata": {},
     "output_type": "display_data"
    },
    {
     "data": {
      "text/plain": [
       "\r\n",
       "Traceback (most recent call last):\r\n",
       "  File \"<string>\", line unknown, in <module>\r\n",
       "Remote.KeyboardInterrupt\r\n"
      ]
     },
     "execution_count": 1,
     "metadata": {},
     "output_type": "execute_result"
    }
   ],
   "source": [
    "import time\n",
    "from maix import display, image\n",
    "v831_adc0 = v83x_ADC\n",
    "while True:\n",
    "    time.sleep(0.1)\n",
    "    tmp = image.Image().new((240, 240), (0x2c, 0x3e, 0x50), \"RGB\")\n",
    "    val = v831_adc0.value()\n",
    "    # print(val)\n",
    "    img = image.Image().open('/home/res/logo.png')\n",
    "    tmp.draw_image(img, 50, 40, alpha=1).draw_string(20, 200, \"adc0 : \" + str(val), 1, (0xbd, 0xc3, 0xc7))\n",
    "    display.show(tmp)"
   ]
  },
  {
   "cell_type": "markdown",
   "metadata": {},
   "source": [
    "### 运行效果\n",
    "**旋钮控制**\n",
    "\n",
    "![](./../asserts/adc-1.gif)\n",
    "\n",
    "**触控检测**\n",
    "\n",
    "![](./../asserts/adc-2.gif)\n",
    "\n",
    "**光照测量**\n",
    "\n",
    "![](./../asserts/adc-3.gif)"
   ]
  },
  {
   "cell_type": "markdown",
   "metadata": {},
   "source": [
    "## 了解更多\n",
    "\n",
    "[什么是 ADC](https://baike.baidu.com/item/%E6%A8%A1%E6%8B%9F%E6%95%B0%E5%AD%97%E8%BD%AC%E6%8D%A2%E5%99%A8/5382125?fr=aladdin)\n",
    "\n",
    "关于[ Linux ADC ](https://www.baidu.com/s?ie=utf-8&f=8&rsv_bp=1&tn=baidu&wd=linux%20ADC&oq=AD%2526lt%253B&rsv_pq=e7716f6c0000714c&rsv_t=628f6V5N5NUB2ky3bv1AhbIkN%2FFaocfP4Kb9JFMQmgvAQFoNlb%2Fv3y7fEwE&rqlang=cn&rsv_enter=1&rsv_dl=tb&rsv_sug3=9&rsv_sug1=5&rsv_sug7=100&rsv_sug2=0&rsv_btype=t&inputT=3109&rsv_sug4=3697)"
   ]
  }
 ],
 "metadata": {
  "kernelspec": {
   "display_name": "RPyc-Python",
   "language": "Python",
   "name": "rpyc"
  },
  "language_info": {
   "codemirror_mode": "python",
   "file_extension": ".py",
   "mimetype": "text/python",
   "name": "Python"
  },
  "orig_nbformat": 4
 },
 "nbformat": 4,
 "nbformat_minor": 2
}
